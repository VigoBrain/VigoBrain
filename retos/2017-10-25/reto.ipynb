{
 "cells": [
  {
   "cell_type": "code",
   "execution_count": 1,
   "metadata": {},
   "outputs": [],
   "source": [
    "import json\n",
    "import random\n",
    "\n",
    "import numpy as np\n",
    "import pandas as pd"
   ]
  },
  {
   "cell_type": "markdown",
   "metadata": {},
   "source": [
    "---"
   ]
  },
  {
   "cell_type": "markdown",
   "metadata": {},
   "source": [
    "## Config"
   ]
  },
  {
   "cell_type": "markdown",
   "metadata": {},
   "source": [
    "---"
   ]
  },
  {
   "cell_type": "code",
   "execution_count": 2,
   "metadata": {},
   "outputs": [],
   "source": [
    "CONFIG = {}\n",
    "CONFIG[\"N_DAYS\"] = 20\n",
    "CONFIG[\"GROUPS\"] = [\n",
    "    \"AgileVigo\",\n",
    "    \"AIndustriosa\",\n",
    "    \"CodeSign\",\n",
    "    \"GALPon\",\n",
    "    \"GalsTech\",\n",
    "    \"GDGVigo\",\n",
    "    \"JoomlaVigo\",\n",
    "    \"JavascriptVigo\",\n",
    "    \"PHPVigo\",\n",
    "    \"PythonVigo\",\n",
    "    \"SeoGalicia\",\n",
    "    \"SysAdminGalicia\",\n",
    "    \"UxGalicia\",\n",
    "    \"VigoBrain\",\n",
    "    \"VigoJug\",\n",
    "    \"VigoLabs\",\n",
    "    \"Vigo++\",\n",
    "    \"VigoDevOps\",\n",
    "    \"Python2Vigo\",\n",
    "    \"AnsibleVigo\",\n",
    "    \"MatlabVigo\",\n",
    "    \"RVigo\",\n",
    "    \"ViGo\",\n",
    "    \"VigoÑapas\",\n",
    "    \"FortranVigo\",\n",
    "    \"EnsambladorVigo\",\n",
    "    \"HaskellVigo\"\n",
    "]\n",
    "CONFIG[\"N_GROUPS\"] = len(CONFIG[\"GROUPS\"])\n",
    "CONFIG[\"N_MEMBERS_PER_GROUP\"] = 30\n",
    "CONFIG[\"ABEL_CABALLERO_BIRTHDAY\"] = random.choice(range(CONFIG[\"N_DAYS\"]))\n",
    "CONFIG[\"CELTA_CHAMPIONS_DAY\"] = random.choice(range(CONFIG[\"N_DAYS\"]))"
   ]
  },
  {
   "cell_type": "code",
   "execution_count": 3,
   "metadata": {},
   "outputs": [],
   "source": [
    "with open(\"config.json\", \"w\") as f:\n",
    "    json.dump(CONFIG, f)"
   ]
  },
  {
   "cell_type": "markdown",
   "metadata": {},
   "source": [
    "---"
   ]
  },
  {
   "cell_type": "markdown",
   "metadata": {},
   "source": [
    "## Data"
   ]
  },
  {
   "cell_type": "markdown",
   "metadata": {},
   "source": [
    "---"
   ]
  },
  {
   "cell_type": "code",
   "execution_count": 4,
   "metadata": {},
   "outputs": [],
   "source": [
    "n_total_members = CONFIG[\"N_GROUPS\"] * CONFIG[\"N_MEMBERS_PER_GROUP\"]"
   ]
  },
  {
   "cell_type": "code",
   "execution_count": 5,
   "metadata": {},
   "outputs": [],
   "source": [
    "members = pd.DataFrame()"
   ]
  },
  {
   "cell_type": "code",
   "execution_count": 6,
   "metadata": {},
   "outputs": [],
   "source": [
    "members[\"group\"] = np.random.choice(CONFIG[\"GROUPS\"], size=n_total_members)\n",
    "members[\"favourite_day\"] = np.random.randint(0, CONFIG[\"N_DAYS\"], size=n_total_members)\n",
    "members[\"hates_celta\"] = (members[\"favourite_day\"] == CONFIG[\"CELTA_CHAMPIONS_DAY\"]).astype(int)\n",
    "members[\"hates_pharaon\"] = (members[\"favourite_day\"] == CONFIG[\"ABEL_CABALLERO_BIRTHDAY\"]).astype(int)"
   ]
  },
  {
   "cell_type": "code",
   "execution_count": 7,
   "metadata": {},
   "outputs": [],
   "source": [
    "members.to_csv(\"members.csv\", index=False)"
   ]
  },
  {
   "cell_type": "code",
   "execution_count": 8,
   "metadata": {},
   "outputs": [
    {
     "data": {
      "text/plain": [
       "VigoDevOps         47\n",
       "VigoBrain          41\n",
       "PHPVigo            38\n",
       "GDGVigo            38\n",
       "AIndustriosa       38\n",
       "JoomlaVigo         35\n",
       "HaskellVigo        34\n",
       "Python2Vigo        34\n",
       "JavascriptVigo     34\n",
       "EnsambladorVigo    31\n",
       "VigoÑapas          31\n",
       "PythonVigo         30\n",
       "SeoGalicia         29\n",
       "MatlabVigo         29\n",
       "GALPon             29\n",
       "CodeSign           28\n",
       "FortranVigo        27\n",
       "SysAdminGalicia    27\n",
       "UxGalicia          26\n",
       "VigoJug            25\n",
       "AgileVigo          25\n",
       "GalsTech           24\n",
       "VigoLabs           23\n",
       "RVigo              23\n",
       "AnsibleVigo        23\n",
       "Vigo++             21\n",
       "ViGo               20\n",
       "Name: group, dtype: int64"
      ]
     },
     "execution_count": 8,
     "metadata": {},
     "output_type": "execute_result"
    }
   ],
   "source": [
    "members[\"group\"].value_counts()"
   ]
  },
  {
   "cell_type": "markdown",
   "metadata": {},
   "source": [
    "---"
   ]
  },
  {
   "cell_type": "markdown",
   "metadata": {},
   "source": [
    "## Random valid solution"
   ]
  },
  {
   "cell_type": "markdown",
   "metadata": {},
   "source": [
    "---"
   ]
  },
  {
   "cell_type": "code",
   "execution_count": 9,
   "metadata": {},
   "outputs": [],
   "source": [
    "calendar = np.random.choice(CONFIG[\"GROUPS\"], size=CONFIG[\"N_DAYS\"], replace=False)\n",
    "calendar = pd.DataFrame(calendar)"
   ]
  },
  {
   "cell_type": "code",
   "execution_count": 10,
   "metadata": {},
   "outputs": [],
   "source": [
    "calendar.to_csv(\"calendar.csv\", index=False, header=False)"
   ]
  },
  {
   "cell_type": "code",
   "execution_count": 11,
   "metadata": {},
   "outputs": [
    {
     "data": {
      "text/html": [
       "<div>\n",
       "<style>\n",
       "    .dataframe thead tr:only-child th {\n",
       "        text-align: right;\n",
       "    }\n",
       "\n",
       "    .dataframe thead th {\n",
       "        text-align: left;\n",
       "    }\n",
       "\n",
       "    .dataframe tbody tr th {\n",
       "        vertical-align: top;\n",
       "    }\n",
       "</style>\n",
       "<table border=\"1\" class=\"dataframe\">\n",
       "  <thead>\n",
       "    <tr style=\"text-align: right;\">\n",
       "      <th></th>\n",
       "      <th>0</th>\n",
       "    </tr>\n",
       "  </thead>\n",
       "  <tbody>\n",
       "    <tr>\n",
       "      <th>0</th>\n",
       "      <td>AIndustriosa</td>\n",
       "    </tr>\n",
       "    <tr>\n",
       "      <th>1</th>\n",
       "      <td>Vigo++</td>\n",
       "    </tr>\n",
       "    <tr>\n",
       "      <th>2</th>\n",
       "      <td>Python2Vigo</td>\n",
       "    </tr>\n",
       "    <tr>\n",
       "      <th>3</th>\n",
       "      <td>VigoLabs</td>\n",
       "    </tr>\n",
       "    <tr>\n",
       "      <th>4</th>\n",
       "      <td>RVigo</td>\n",
       "    </tr>\n",
       "    <tr>\n",
       "      <th>5</th>\n",
       "      <td>GDGVigo</td>\n",
       "    </tr>\n",
       "    <tr>\n",
       "      <th>6</th>\n",
       "      <td>PHPVigo</td>\n",
       "    </tr>\n",
       "    <tr>\n",
       "      <th>7</th>\n",
       "      <td>PythonVigo</td>\n",
       "    </tr>\n",
       "    <tr>\n",
       "      <th>8</th>\n",
       "      <td>SysAdminGalicia</td>\n",
       "    </tr>\n",
       "    <tr>\n",
       "      <th>9</th>\n",
       "      <td>VigoÑapas</td>\n",
       "    </tr>\n",
       "    <tr>\n",
       "      <th>10</th>\n",
       "      <td>VigoJug</td>\n",
       "    </tr>\n",
       "    <tr>\n",
       "      <th>11</th>\n",
       "      <td>CodeSign</td>\n",
       "    </tr>\n",
       "    <tr>\n",
       "      <th>12</th>\n",
       "      <td>HaskellVigo</td>\n",
       "    </tr>\n",
       "    <tr>\n",
       "      <th>13</th>\n",
       "      <td>FortranVigo</td>\n",
       "    </tr>\n",
       "    <tr>\n",
       "      <th>14</th>\n",
       "      <td>AgileVigo</td>\n",
       "    </tr>\n",
       "    <tr>\n",
       "      <th>15</th>\n",
       "      <td>GALPon</td>\n",
       "    </tr>\n",
       "    <tr>\n",
       "      <th>16</th>\n",
       "      <td>JavascriptVigo</td>\n",
       "    </tr>\n",
       "    <tr>\n",
       "      <th>17</th>\n",
       "      <td>VigoDevOps</td>\n",
       "    </tr>\n",
       "    <tr>\n",
       "      <th>18</th>\n",
       "      <td>VigoBrain</td>\n",
       "    </tr>\n",
       "    <tr>\n",
       "      <th>19</th>\n",
       "      <td>MatlabVigo</td>\n",
       "    </tr>\n",
       "  </tbody>\n",
       "</table>\n",
       "</div>"
      ],
      "text/plain": [
       "                  0\n",
       "0      AIndustriosa\n",
       "1            Vigo++\n",
       "2       Python2Vigo\n",
       "3          VigoLabs\n",
       "4             RVigo\n",
       "5           GDGVigo\n",
       "6           PHPVigo\n",
       "7        PythonVigo\n",
       "8   SysAdminGalicia\n",
       "9         VigoÑapas\n",
       "10          VigoJug\n",
       "11         CodeSign\n",
       "12      HaskellVigo\n",
       "13      FortranVigo\n",
       "14        AgileVigo\n",
       "15           GALPon\n",
       "16   JavascriptVigo\n",
       "17       VigoDevOps\n",
       "18        VigoBrain\n",
       "19       MatlabVigo"
      ]
     },
     "execution_count": 11,
     "metadata": {},
     "output_type": "execute_result"
    }
   ],
   "source": [
    "calendar"
   ]
  },
  {
   "cell_type": "markdown",
   "metadata": {},
   "source": [
    "---"
   ]
  },
  {
   "cell_type": "markdown",
   "metadata": {},
   "source": [
    "## Fitness"
   ]
  },
  {
   "cell_type": "markdown",
   "metadata": {},
   "source": [
    "---"
   ]
  },
  {
   "cell_type": "code",
   "execution_count": 12,
   "metadata": {},
   "outputs": [],
   "source": [
    "def fitness(config, members, calendar):\n",
    "\n",
    "    with open(config) as f:\n",
    "        CONFIG = json.load(f)\n",
    "    \n",
    "    members = pd.read_csv(members)\n",
    "\n",
    "    calendar = pd.read_csv(calendar, header=None)[0].values\n",
    "\n",
    "    scores = np.zeros(CONFIG[\"N_DAYS\"])\n",
    "\n",
    "    scores[CONFIG[\"CELTA_CHAMPIONS_DAY\"]] -= 4\n",
    "    scores[CONFIG[\"ABEL_CABALLERO_BIRTHDAY\"]] -= 8\n",
    "\n",
    "    for x in members.groupby(\"group\", sort=False):\n",
    "        group = x[0]\n",
    "        n_members = len(x[1])\n",
    "        favorite_day_counts = x[1][\"favourite_day\"].value_counts()\n",
    "\n",
    "        if group in calendar:\n",
    "            proposed_day = np.where(calendar == group)[0][0]\n",
    "\n",
    "            if proposed_day in favorite_day_counts:\n",
    "                scores[proposed_day] += favorite_day_counts[proposed_day] * 2\n",
    "\n",
    "            scores[proposed_day] += n_members\n",
    "\n",
    "        else:\n",
    "            if group == \"VigoBrain\":\n",
    "                scores -= 2\n",
    "            for day, n in favorite_day_counts.items():\n",
    "                if group == \"VigoBrain\":\n",
    "                    scores[day] -= n * 5\n",
    "                else:\n",
    "                    scores[day] -= n * 2\n",
    "\n",
    "    return scores"
   ]
  },
  {
   "cell_type": "code",
   "execution_count": 13,
   "metadata": {},
   "outputs": [],
   "source": [
    "scores = fitness(\"config.json\", \"members.csv\", \"calendar.csv\")"
   ]
  },
  {
   "cell_type": "code",
   "execution_count": 14,
   "metadata": {},
   "outputs": [
    {
     "data": {
      "text/plain": [
       "array([ 22.,  -3.,  30.,  15.,  15.,  30.,  22.,   6.,  -3.,  13.,  15.,\n",
       "        18.,  14.,  19.,   7.,  15.,   6.,  29.,  33.,   7.])"
      ]
     },
     "execution_count": 14,
     "metadata": {},
     "output_type": "execute_result"
    }
   ],
   "source": [
    "scores"
   ]
  },
  {
   "cell_type": "code",
   "execution_count": 15,
   "metadata": {},
   "outputs": [],
   "source": [
    "from matplotlib import pyplot as plt"
   ]
  },
  {
   "cell_type": "code",
   "execution_count": 16,
   "metadata": {},
   "outputs": [],
   "source": [
    "%matplotlib inline"
   ]
  },
  {
   "cell_type": "code",
   "execution_count": 18,
   "metadata": {},
   "outputs": [
    {
     "data": {
      "image/png": "[encoded data removed]",
      "text/plain": [
       "<matplotlib.figure.Figure at 0x7f60e2e79208>"
      ]
     },
     "metadata": {},
     "output_type": "display_data"
    }
   ],
   "source": [
    "plt.imshow(scores.reshape(4, 5), cmap=\"cool\");"
   ]
  },
  {
   "cell_type": "code",
   "execution_count": 20,
   "metadata": {},
   "outputs": [],
   "source": [
    "def plot_group_heatmap(group):\n",
    "    heatmap = np.zeros(CONFIG[\"N_DAYS\"])\n",
    "    counts = members.loc[members[\"group\"] == group, \"favourite_day\"].value_counts()\n",
    "    for index, value in counts.items():\n",
    "        heatmap[index] = value\n",
    "    \n",
    "    plt.imshow(heatmap.reshape(4, 5), cmap=\"cool\")"
   ]
  },
  {
   "cell_type": "code",
   "execution_count": 21,
   "metadata": {},
   "outputs": [
    {
     "data": {
      "image/png": "[encoded data removed]",
      "text/plain": [
       "<matplotlib.figure.Figure at 0x7f60e0dae7b8>"
      ]
     },
     "metadata": {},
     "output_type": "display_data"
    }
   ],
   "source": [
    "plot_group_heatmap(\"VigoBrain\")"
   ]
  },
  {
   "cell_type": "code",
   "execution_count": null,
   "metadata": {},
   "outputs": [],
   "source": []
  }
 ],
 "metadata": {
  "kernelspec": {
   "display_name": "Python 3",
   "language": "python",
   "name": "python3"
  },
  "language_info": {
   "codemirror_mode": {
    "name": "ipython",
    "version": 3
   },
   "file_extension": ".py",
   "mimetype": "text/x-python",
   "name": "python",
   "nbconvert_exporter": "python",
   "pygments_lexer": "ipython3",
   "version": "3.6.3"
  }
 },
 "nbformat": 4,
 "nbformat_minor": 2
}
