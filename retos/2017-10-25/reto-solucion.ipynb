{
 "cells": [
  {
   "cell_type": "code",
   "execution_count": 1,
   "metadata": {
    "collapsed": true
   },
   "outputs": [],
   "source": [
    "import json\n",
    "import random\n",
    "\n",
    "import numpy as np\n",
    "import pandas as pd\n",
    "\n",
    "import seaborn as sns\n",
    "import matplotlib.pyplot as plt\n",
    "%matplotlib inline"
   ]
  },
  {
   "cell_type": "markdown",
   "metadata": {},
   "source": [
    "---"
   ]
  },
  {
   "cell_type": "markdown",
   "metadata": {},
   "source": [
    "## Data"
   ]
  },
  {
   "cell_type": "code",
   "execution_count": 2,
   "metadata": {
    "collapsed": true
   },
   "outputs": [],
   "source": [
    "with open(\"config.json\", \"r\") as f:\n",
    "    CONFIG=json.load(f)"
   ]
  },
  {
   "cell_type": "code",
   "execution_count": 3,
   "metadata": {},
   "outputs": [
    {
     "data": {
      "text/plain": [
       "{'ABEL_CABALLERO_BIRTHDAY': 9,\n",
       " 'CELTA_CHAMPIONS_DAY': 19,\n",
       " 'GROUPS': ['AgileVigo',\n",
       "  'AIndustriosa',\n",
       "  'CodeSign',\n",
       "  'GALPon',\n",
       "  'GalsTech',\n",
       "  'GDGVigo',\n",
       "  'JoomlaVigo',\n",
       "  'JavascriptVigo',\n",
       "  'PHPVigo',\n",
       "  'PythonVigo',\n",
       "  'SeoGalicia',\n",
       "  'SysAdminGalicia',\n",
       "  'UxGalicia',\n",
       "  'VigoBrain',\n",
       "  'VigoJug',\n",
       "  'VigoLabs',\n",
       "  'Vigo++',\n",
       "  'VigoDevOps',\n",
       "  'Python2Vigo',\n",
       "  'AnsibleVigo',\n",
       "  'MatlabVigo',\n",
       "  'RVigo',\n",
       "  'ViGo',\n",
       "  'VigoÑapas',\n",
       "  'FortranVigo',\n",
       "  'EnsambladorVigo',\n",
       "  'HaskellVigo'],\n",
       " 'N_DAYS': 20,\n",
       " 'N_GROUPS': 27,\n",
       " 'N_MEMBERS_PER_GROUP': 30}"
      ]
     },
     "execution_count": 3,
     "metadata": {},
     "output_type": "execute_result"
    }
   ],
   "source": [
    "CONFIG"
   ]
  },
  {
   "cell_type": "code",
   "execution_count": 4,
   "metadata": {
    "collapsed": true
   },
   "outputs": [],
   "source": [
    "members=pd.read_csv('members.csv')"
   ]
  },
  {
   "cell_type": "code",
   "execution_count": 5,
   "metadata": {},
   "outputs": [
    {
     "data": {
      "text/html": [
       "<div>\n",
       "<table border=\"1\" class=\"dataframe\">\n",
       "  <thead>\n",
       "    <tr style=\"text-align: right;\">\n",
       "      <th></th>\n",
       "      <th>group</th>\n",
       "      <th>favourite_day</th>\n",
       "      <th>hates_celta</th>\n",
       "      <th>hates_pharaon</th>\n",
       "    </tr>\n",
       "  </thead>\n",
       "  <tbody>\n",
       "    <tr>\n",
       "      <th>0</th>\n",
       "      <td>ViGo</td>\n",
       "      <td>9</td>\n",
       "      <td>0</td>\n",
       "      <td>1</td>\n",
       "    </tr>\n",
       "    <tr>\n",
       "      <th>1</th>\n",
       "      <td>AnsibleVigo</td>\n",
       "      <td>6</td>\n",
       "      <td>0</td>\n",
       "      <td>0</td>\n",
       "    </tr>\n",
       "    <tr>\n",
       "      <th>2</th>\n",
       "      <td>PHPVigo</td>\n",
       "      <td>0</td>\n",
       "      <td>0</td>\n",
       "      <td>0</td>\n",
       "    </tr>\n",
       "    <tr>\n",
       "      <th>3</th>\n",
       "      <td>VigoBrain</td>\n",
       "      <td>11</td>\n",
       "      <td>0</td>\n",
       "      <td>0</td>\n",
       "    </tr>\n",
       "    <tr>\n",
       "      <th>4</th>\n",
       "      <td>GALPon</td>\n",
       "      <td>12</td>\n",
       "      <td>0</td>\n",
       "      <td>0</td>\n",
       "    </tr>\n",
       "  </tbody>\n",
       "</table>\n",
       "</div>"
      ],
      "text/plain": [
       "         group  favourite_day  hates_celta  hates_pharaon\n",
       "0         ViGo              9            0              1\n",
       "1  AnsibleVigo              6            0              0\n",
       "2      PHPVigo              0            0              0\n",
       "3    VigoBrain             11            0              0\n",
       "4       GALPon             12            0              0"
      ]
     },
     "execution_count": 5,
     "metadata": {},
     "output_type": "execute_result"
    }
   ],
   "source": [
    "members.head()"
   ]
  },
  {
   "cell_type": "markdown",
   "metadata": {},
   "source": [
    "---"
   ]
  },
  {
   "cell_type": "markdown",
   "metadata": {},
   "source": [
    "## Fitness function"
   ]
  },
  {
   "cell_type": "code",
   "execution_count": 6,
   "metadata": {
    "collapsed": true
   },
   "outputs": [],
   "source": [
    "def fitness(calendar):\n",
    "    scores = np.zeros(CONFIG[\"N_DAYS\"])\n",
    "\n",
    "    scores[CONFIG[\"CELTA_CHAMPIONS_DAY\"]] -= 4\n",
    "    scores[CONFIG[\"ABEL_CABALLERO_BIRTHDAY\"]] -= 8\n",
    "\n",
    "    for x in members.groupby(\"group\", sort=False):\n",
    "        group = x[0]\n",
    "        n_members = len(x[1])\n",
    "        favorite_day_counts = x[1][\"favourite_day\"].value_counts()\n",
    "\n",
    "        if group in calendar:\n",
    "            proposed_day = np.where(calendar == group)[0][0]\n",
    "\n",
    "            if proposed_day in favorite_day_counts:\n",
    "                scores[proposed_day] += favorite_day_counts[proposed_day] * 2\n",
    "\n",
    "            scores[proposed_day] += n_members\n",
    "\n",
    "        else:\n",
    "            if group == \"VigoBrain\":\n",
    "                scores -= 2\n",
    "            for day, n in favorite_day_counts.items():\n",
    "                if group == \"VigoBrain\":\n",
    "                    scores[day] -= n * 5\n",
    "                else:\n",
    "                    scores[day] -= n * 2\n",
    "\n",
    "    return scores"
   ]
  },
  {
   "cell_type": "markdown",
   "metadata": {},
   "source": [
    "---"
   ]
  },
  {
   "cell_type": "markdown",
   "metadata": {},
   "source": [
    "## Solution"
   ]
  },
  {
   "cell_type": "code",
   "execution_count": 7,
   "metadata": {
    "collapsed": true
   },
   "outputs": [],
   "source": [
    "from deap import base, creator, tools, algorithms\n"
   ]
  },
  {
   "cell_type": "code",
   "execution_count": 8,
   "metadata": {
    "collapsed": true
   },
   "outputs": [],
   "source": [
    "def getFitness(indCalendar):\n",
    "    return np.sum(fitness(np.array(CONFIG[\"GROUPS\"])[indCalendar][:CONFIG[\"N_DAYS\"]])),"
   ]
  },
  {
   "cell_type": "code",
   "execution_count": 9,
   "metadata": {
    "collapsed": true
   },
   "outputs": [],
   "source": [
    "creator.create(\"FitnessMax\", base.Fitness, weights=(1.0,))\n",
    "creator.create(\"Individual\", list, fitness=creator.FitnessMax)"
   ]
  },
  {
   "cell_type": "code",
   "execution_count": 10,
   "metadata": {
    "collapsed": true
   },
   "outputs": [],
   "source": [
    "toolbox = base.Toolbox()\n",
    "toolbox.register(\"indices\", np.random.permutation, len(CONFIG[\"GROUPS\"]))\n",
    "toolbox.register(\"individual\", tools.initIterate, creator.Individual,\n",
    "                 toolbox.indices)\n",
    "toolbox.register(\"population\", tools.initRepeat, list, toolbox.individual)"
   ]
  },
  {
   "cell_type": "code",
   "execution_count": 11,
   "metadata": {},
   "outputs": [
    {
     "name": "stdout",
     "output_type": "stream",
     "text": [
      "[ 5  9 15  4 16  8 19 26 20 21 10 13  1  2  3 14 18 23 12 22  6  0 11 25 17\n",
      "  7 24]\n"
     ]
    }
   ],
   "source": [
    "print(toolbox.indices())"
   ]
  },
  {
   "cell_type": "code",
   "execution_count": 12,
   "metadata": {},
   "outputs": [
    {
     "name": "stdout",
     "output_type": "stream",
     "text": [
      "[23, 0, 8, 3, 7, 2, 16, 22, 20, 14, 13, 17, 15, 21, 26, 10, 25, 11, 18, 19, 12, 1, 6, 9, 24, 4, 5]\n"
     ]
    }
   ],
   "source": [
    "print(toolbox.individual())"
   ]
  },
  {
   "cell_type": "code",
   "execution_count": 13,
   "metadata": {},
   "outputs": [
    {
     "name": "stdout",
     "output_type": "stream",
     "text": [
      "[[15, 0, 10, 23, 21, 25, 2, 4, 26, 9, 11, 7, 18, 19, 24, 16, 14, 22, 5, 12, 3, 1, 6, 8, 20, 17, 13], [8, 1, 20, 18, 7, 4, 0, 24, 22, 2, 26, 13, 9, 14, 17, 5, 21, 19, 11, 25, 10, 12, 23, 3, 16, 15, 6], [17, 13, 19, 12, 1, 11, 4, 0, 24, 25, 22, 26, 21, 15, 7, 8, 20, 16, 3, 18, 5, 10, 14, 23, 2, 6, 9], [21, 9, 10, 0, 13, 18, 7, 14, 8, 2, 22, 26, 5, 1, 12, 15, 20, 11, 4, 24, 3, 16, 25, 19, 6, 17, 23], [8, 4, 6, 17, 7, 5, 21, 2, 12, 1, 15, 3, 22, 26, 24, 11, 19, 0, 9, 20, 14, 10, 23, 18, 13, 16, 25]]\n"
     ]
    }
   ],
   "source": [
    "print(toolbox.population(5))"
   ]
  },
  {
   "cell_type": "code",
   "execution_count": 14,
   "metadata": {
    "collapsed": true
   },
   "outputs": [],
   "source": [
    "toolbox.register(\"evaluate\", getFitness)\n",
    "toolbox.register(\"mate\", tools.cxPartialyMatched)\n",
    "toolbox.register(\"mutate\", tools.mutShuffleIndexes, indpb=0.05)\n",
    "toolbox.register(\"select\", tools.selTournament, tournsize=3)"
   ]
  },
  {
   "cell_type": "code",
   "execution_count": 18,
   "metadata": {},
   "outputs": [
    {
     "name": "stdout",
     "output_type": "stream",
     "text": [
      "197.0\n"
     ]
    }
   ],
   "source": [
    "print(toolbox.evaluate(toolbox.individual())[0])"
   ]
  },
  {
   "cell_type": "code",
   "execution_count": 19,
   "metadata": {},
   "outputs": [
    {
     "name": "stdout",
     "output_type": "stream",
     "text": [
      "[6, 9, 3, 20, 15, 8, 16, 13, 14, 2, 12, 25, 23, 11, 18, 17, 22, 21, 0, 10, 19, 24, 5, 7, 4, 1, 26]\n",
      "[25, 15, 7, 24, 10, 26, 2, 20, 6, 3, 21, 23, 5, 1, 14, 0, 12, 4, 9, 13, 8, 18, 19, 17, 11, 22, 16]\n",
      "([14, 9, 16, 13, 10, 26, 2, 24, 6, 3, 21, 23, 25, 11, 18, 17, 22, 12, 0, 15, 19, 20, 5, 7, 4, 1, 8], [23, 10, 7, 20, 15, 8, 3, 13, 14, 16, 12, 25, 5, 1, 6, 0, 21, 4, 9, 24, 26, 18, 19, 17, 11, 22, 2])\n"
     ]
    }
   ],
   "source": [
    "ind1=toolbox.individual()\n",
    "print(ind1)\n",
    "ind2=toolbox.individual()\n",
    "print(ind2)\n",
    "print(toolbox.mate(ind1,ind2))"
   ]
  },
  {
   "cell_type": "code",
   "execution_count": 21,
   "metadata": {},
   "outputs": [
    {
     "name": "stdout",
     "output_type": "stream",
     "text": [
      "[25, 0, 20, 4, 22, 6, 26, 14, 23, 5, 11, 17, 19, 3, 24, 8, 21, 15, 7, 16, 18, 10, 2, 13, 12, 1, 9]\n",
      "([26, 20, 0, 4, 22, 6, 25, 14, 23, 5, 11, 17, 19, 3, 24, 8, 21, 15, 7, 16, 18, 10, 2, 13, 12, 1, 9],)\n"
     ]
    }
   ],
   "source": [
    "ind=toolbox.individual()\n",
    "print(ind)\n",
    "print(toolbox.mutate(ind))\n"
   ]
  },
  {
   "cell_type": "code",
   "execution_count": 22,
   "metadata": {},
   "outputs": [
    {
     "name": "stdout",
     "output_type": "stream",
     "text": [
      "[[22, 21, 4, 19, 8, 3, 7, 1, 10, 14, 9, 2, 20, 5, 24, 6, 11, 23, 0, 16, 17, 25, 15, 26, 18, 13, 12], [3, 10, 7, 17, 16, 26, 13, 20, 18, 21, 23, 9, 24, 12, 15, 25, 0, 19, 22, 1, 14, 8, 2, 4, 11, 5, 6], [2, 23, 10, 25, 15, 19, 17, 14, 16, 11, 18, 21, 6, 20, 22, 26, 3, 7, 9, 8, 1, 5, 12, 24, 4, 0, 13]]\n",
      "(-19.0,)\n",
      "(223.0,)\n",
      "(30.0,)\n",
      "[[2, 23, 10, 25, 15, 19, 17, 14, 16, 11, 18, 21, 6, 20, 22, 26, 3, 7, 9, 8, 1, 5, 12, 24, 4, 0, 13], [3, 10, 7, 17, 16, 26, 13, 20, 18, 21, 23, 9, 24, 12, 15, 25, 0, 19, 22, 1, 14, 8, 2, 4, 11, 5, 6]]\n"
     ]
    }
   ],
   "source": [
    "inds=toolbox.population(3)\n",
    "print(inds)\n",
    "print(toolbox.evaluate(inds[0]))\n",
    "print(toolbox.evaluate(inds[1]))\n",
    "print(toolbox.evaluate(inds[2]))\n",
    "print(toolbox.select(inds,2))"
   ]
  },
  {
   "cell_type": "code",
   "execution_count": 26,
   "metadata": {
    "collapsed": true
   },
   "outputs": [],
   "source": [
    "pop = toolbox.population(n=100)\n",
    "stats = tools.Statistics(lambda ind: ind.fitness.values)\n",
    "stats.register(\"avg\", np.mean)\n",
    "stats.register(\"max\", np.max)"
   ]
  },
  {
   "cell_type": "code",
   "execution_count": 27,
   "metadata": {},
   "outputs": [
    {
     "name": "stdout",
     "output_type": "stream",
     "text": [
      "['SysAdminGalicia' 'PHPVigo' 'PythonVigo' 'Python2Vigo' 'VigoBrain'\n",
      " 'CodeSign' 'AIndustriosa' 'FortranVigo' 'EnsambladorVigo' 'SeoGalicia'\n",
      " 'VigoÑapas' 'HaskellVigo' 'GALPon' 'JavascriptVigo' 'VigoJug' 'MatlabVigo'\n",
      " 'UxGalicia' 'VigoDevOps' 'GDGVigo' 'JoomlaVigo']\n",
      "469.0\n"
     ]
    },
    {
     "data": {
      "image/png": "[encoded data removed]",
      "text/plain": [
       "<matplotlib.figure.Figure at 0x7f339896c908>"
      ]
     },
     "metadata": {},
     "output_type": "display_data"
    }
   ],
   "source": [
    "result, log = algorithms.eaSimple(pop, toolbox,stats=stats,cxpb=0.8, mutpb=0.2,ngen=1000, verbose=False)\n",
    "logdf=pd.DataFrame(log)\n",
    "logdf.plot(['gen'],['max','avg'])\n",
    "top=tools.selBest(result,1)\n",
    "\n",
    "print(np.array(CONFIG[\"GROUPS\"])[top[0]][:CONFIG[\"N_DAYS\"]])\n",
    "print(toolbox.evaluate(top[0])[0])"
   ]
  },
  {
   "cell_type": "code",
   "execution_count": null,
   "metadata": {
    "collapsed": true
   },
   "outputs": [],
   "source": []
  }
 ],
 "metadata": {
  "kernelspec": {
   "display_name": "Python 3",
   "language": "python",
   "name": "python3"
  },
  "language_info": {
   "codemirror_mode": {
    "name": "ipython",
    "version": 3
   },
   "file_extension": ".py",
   "mimetype": "text/x-python",
   "name": "python",
   "nbconvert_exporter": "python",
   "pygments_lexer": "ipython3",
   "version": "3.5.2"
  }
 },
 "nbformat": 4,
 "nbformat_minor": 2
}
