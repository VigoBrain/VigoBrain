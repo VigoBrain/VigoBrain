{
 "cells": [
  {
   "cell_type": "code",
   "execution_count": null,
   "metadata": {
    "collapsed": true
   },
   "outputs": [],
   "source": [
    "from pyntcloud import PyntCloud"
   ]
  },
  {
   "cell_type": "code",
   "execution_count": null,
   "metadata": {
    "collapsed": true
   },
   "outputs": [],
   "source": [
    "anky = PyntCloud.from_file(\"ankylosaurus.npz\")"
   ]
  },
  {
   "cell_type": "markdown",
   "metadata": {},
   "source": [
    "---"
   ]
  },
  {
   "cell_type": "markdown",
   "metadata": {},
   "source": [
    "# Point Cloud"
   ]
  },
  {
   "cell_type": "code",
   "execution_count": null,
   "metadata": {},
   "outputs": [],
   "source": [
    "anky.plot()"
   ]
  },
  {
   "cell_type": "code",
   "execution_count": null,
   "metadata": {},
   "outputs": [],
   "source": [
    "anky.points.head()"
   ]
  },
  {
   "cell_type": "markdown",
   "metadata": {},
   "source": [
    "---"
   ]
  },
  {
   "cell_type": "markdown",
   "metadata": {},
   "source": [
    "---"
   ]
  },
  {
   "cell_type": "markdown",
   "metadata": {},
   "source": [
    "## Raw"
   ]
  },
  {
   "cell_type": "markdown",
   "metadata": {},
   "source": [
    "---"
   ]
  },
  {
   "cell_type": "markdown",
   "metadata": {},
   "source": [
    "- ### PointNet: Deep Learning on Point Sets for 3D Classification and Segmentation\n",
    "[PDF](https://arxiv.org/pdf/1612.00593.pdf)\n",
    "[code](https://github.com/charlesq34/pointnet)\n",
    "![pc-r-1.png](images/pc-r-1.png)"
   ]
  },
  {
   "cell_type": "markdown",
   "metadata": {},
   "source": [
    "![pc-r-2.jpg](images/pc-r-2.jpg)"
   ]
  },
  {
   "cell_type": "markdown",
   "metadata": {},
   "source": [
    "- ### PointNet++: Deep Hierarchical Feature Learning on Point Sets in a Metric Space\n",
    "[PDF](https://arxiv.org/pdf/1706.02413.pdf)\n",
    "![pc-r-3.png](images/pc-r-3.png)"
   ]
  },
  {
   "cell_type": "markdown",
   "metadata": {},
   "source": [
    "- ### Representation Learning and Adversarial Generation of 3D Point Clouds\n",
    "[PDF](https://arxiv.org/pdf/1707.02392v1.pdf)\n",
    "![pc-r-4.png](images/pc-r-4.png)"
   ]
  },
  {
   "cell_type": "markdown",
   "metadata": {},
   "source": [
    "---"
   ]
  },
  {
   "cell_type": "markdown",
   "metadata": {},
   "source": [
    "## KDTree"
   ]
  },
  {
   "cell_type": "markdown",
   "metadata": {},
   "source": [
    "---"
   ]
  },
  {
   "cell_type": "markdown",
   "metadata": {},
   "source": [
    "- ### Escape from Cells: Deep Kd-Networks for The Recognition of 3D Point Cloud Models\n",
    "[PDF](https://arxiv.org/pdf/1704.01222.pdf)\n",
    "[code(unofficial)](https://github.com/fxia22/kdnet.pytorch)\n",
    "![pc-kdt-1.png](images/pc-kdt-1.png)"
   ]
  },
  {
   "cell_type": "markdown",
   "metadata": {},
   "source": [
    "![pc-kdt-2.png](images/pc-kdt-2.png)"
   ]
  },
  {
   "cell_type": "code",
   "execution_count": null,
   "metadata": {
    "collapsed": true
   },
   "outputs": [],
   "source": [
    "kdtree_id = anky.add_structure(\"kdtree\")"
   ]
  },
  {
   "cell_type": "code",
   "execution_count": null,
   "metadata": {},
   "outputs": [],
   "source": [
    "anky.get_filter(\"SOR\", kdtree=kdtree_id, k=10, z_max=1, and_apply=True)"
   ]
  },
  {
   "cell_type": "code",
   "execution_count": null,
   "metadata": {},
   "outputs": [],
   "source": [
    "anky.plot()"
   ]
  },
  {
   "cell_type": "markdown",
   "metadata": {},
   "source": [
    "- ### Shape Generation using Spatially Partitioned Point Clouds\n",
    "[PDF](https://arxiv.org/pdf/1707.06267.pdf)\n",
    "[code](http://mgadelha.me/sppc/index.html#toc2)\n",
    "\n",
    "![pc-kdt-3.png](images/pc-kdt-3.png)"
   ]
  },
  {
   "cell_type": "markdown",
   "metadata": {},
   "source": [
    "---"
   ]
  },
  {
   "cell_type": "markdown",
   "metadata": {},
   "source": [
    "# Mesh"
   ]
  },
  {
   "cell_type": "code",
   "execution_count": null,
   "metadata": {
    "collapsed": true
   },
   "outputs": [],
   "source": [
    "anky = PyntCloud.from_file(\"ankylosaurus_mesh.npz\")"
   ]
  },
  {
   "cell_type": "code",
   "execution_count": null,
   "metadata": {},
   "outputs": [],
   "source": [
    "anky.plot(mesh=True)"
   ]
  },
  {
   "cell_type": "code",
   "execution_count": null,
   "metadata": {},
   "outputs": [],
   "source": [
    "anky.mesh.head()"
   ]
  },
  {
   "cell_type": "markdown",
   "metadata": {},
   "source": [
    "---"
   ]
  },
  {
   "cell_type": "markdown",
   "metadata": {},
   "source": [
    "---"
   ]
  },
  {
   "cell_type": "markdown",
   "metadata": {},
   "source": [
    "## Features"
   ]
  },
  {
   "cell_type": "markdown",
   "metadata": {},
   "source": [
    "---"
   ]
  },
  {
   "cell_type": "markdown",
   "metadata": {},
   "source": [
    "- ### 3D Mesh Labeling via Deep Convolutional Neural Networks\n",
    "[PDF](http://arts.buaa.edu.cn/papers/3D%20Mesh%20Labeling%20via%20Deep%20Convolutional%20Neural%20Networks.pdf)\n",
    "![m-f-1.png](images/m-f-1.png)"
   ]
  },
  {
   "cell_type": "markdown",
   "metadata": {},
   "source": [
    "![m-f-2.png](images/m-f-2.png)"
   ]
  },
  {
   "cell_type": "markdown",
   "metadata": {},
   "source": [
    "---"
   ]
  },
  {
   "cell_type": "markdown",
   "metadata": {},
   "source": [
    "## Graph Convolutions"
   ]
  },
  {
   "cell_type": "markdown",
   "metadata": {},
   "source": [
    "---"
   ]
  },
  {
   "cell_type": "markdown",
   "metadata": {},
   "source": [
    "- ### SyncSpecCNN: Synchronized Spectral CNN for 3D Shape Segmentation\n",
    "[PDF](https://arxiv.org/pdf/1612.00606.pdf)\n",
    "[code](https://github.com/ericyi/SyncSpecCNN)\n",
    "![m-g-1.png](images/m-g-1.png)"
   ]
  },
  {
   "cell_type": "markdown",
   "metadata": {
    "collapsed": true
   },
   "source": [
    "![m-g-2.png](images/m-g-2.png)"
   ]
  },
  {
   "cell_type": "markdown",
   "metadata": {},
   "source": [
    "---"
   ]
  },
  {
   "cell_type": "markdown",
   "metadata": {},
   "source": [
    "## Surface Parametrization"
   ]
  },
  {
   "cell_type": "markdown",
   "metadata": {},
   "source": [
    "---"
   ]
  },
  {
   "cell_type": "markdown",
   "metadata": {},
   "source": [
    "- ### Deep Learning 3D Shape Surfaces using Geometry Images\n",
    "[PDF(only poster)](http://www.eccv2016.org/files/posters/P-4B-41.pdf)\n",
    "[FULL PDF(not free)](https://link.springer.com/chapter/10.1007/978-3-319-46466-4_14)\n",
    "[code](https://github.com/sinhayan/learning_geometry_images)\n",
    "![m-p-1.png](images/m-p-1.png)"
   ]
  },
  {
   "cell_type": "markdown",
   "metadata": {},
   "source": [
    "- ### Convolutional Neural Networks on Surfaces via Seamless Toric Covers\n",
    "[PDF](http://www.wisdom.weizmann.ac.il/~haggaim/projects/geometry_learning/paper_low_res.pdf)\n",
    "[code](http://www.wisdom.weizmann.ac.il/~haggaim/projects/geometry_learning/code.rar)\n",
    "![m-p-2.png](images/m-p-2.png)"
   ]
  },
  {
   "cell_type": "markdown",
   "metadata": {},
   "source": [
    "- ### SurfNet: Generating 3D shape surfaces using deep residual networks\n",
    "[PDF](https://arxiv.org/pdf/1703.04079.pdf)\n",
    "[code](https://github.com/sinhayan/surfnet)\n",
    "![m-p-3.png](images/m-p-3.png)"
   ]
  },
  {
   "cell_type": "markdown",
   "metadata": {},
   "source": [
    "---"
   ]
  },
  {
   "cell_type": "markdown",
   "metadata": {
    "collapsed": true
   },
   "source": [
    "# Volumetric"
   ]
  },
  {
   "cell_type": "code",
   "execution_count": null,
   "metadata": {
    "collapsed": true
   },
   "outputs": [],
   "source": [
    "voxelgrid_id = anky.add_structure(\"voxelgrid\", x_y_z=[32, 32, 32])"
   ]
  },
  {
   "cell_type": "code",
   "execution_count": null,
   "metadata": {
    "collapsed": true
   },
   "outputs": [],
   "source": [
    "voxelgrid = anky.structures[voxelgrid_id]"
   ]
  },
  {
   "cell_type": "code",
   "execution_count": null,
   "metadata": {},
   "outputs": [],
   "source": [
    "voxelgrid.plot(d=3, mode=\"density\", cmap=\"cool\")"
   ]
  },
  {
   "cell_type": "code",
   "execution_count": null,
   "metadata": {
    "collapsed": true
   },
   "outputs": [],
   "source": [
    "from matplotlib import pyplot as plt\n",
    "%matplotlib inline"
   ]
  },
  {
   "cell_type": "code",
   "execution_count": null,
   "metadata": {},
   "outputs": [],
   "source": [
    "plt.hist(voxelgrid.get_feature_vector(mode=\"density\").ravel());"
   ]
  },
  {
   "cell_type": "markdown",
   "metadata": {},
   "source": [
    "---"
   ]
  },
  {
   "cell_type": "markdown",
   "metadata": {},
   "source": [
    "---"
   ]
  },
  {
   "cell_type": "markdown",
   "metadata": {},
   "source": [
    "## Raw"
   ]
  },
  {
   "cell_type": "markdown",
   "metadata": {},
   "source": [
    "---"
   ]
  },
  {
   "cell_type": "markdown",
   "metadata": {},
   "source": [
    "- ### FPNN: Field Probing Neural Networks for 3D Data\n",
    "[PDF](https://arxiv.org/pdf/1605.06240.pdf)\n",
    "[code](https://github.com/yangyanli/FPNN)\n",
    "![v-r-0.png](images/v-r-0.png)"
   ]
  },
  {
   "cell_type": "markdown",
   "metadata": {},
   "source": [
    "---"
   ]
  },
  {
   "cell_type": "markdown",
   "metadata": {},
   "source": [
    "![v-r-1.png](images/v-r-1.png)"
   ]
  },
  {
   "cell_type": "markdown",
   "metadata": {},
   "source": [
    "- ### Generative and Discriminative Voxel Modeling with Convolutional Neural Networks\n",
    "[PDF](http://3ddl.cs.princeton.edu/2016/papers/Brock_et_al.pdf)\n",
    "[code](https://github.com/ajbrock/Generative-and-Discriminative-Voxel-Modeling)\n",
    "![v-r-2.png](images/v-r-2.png)"
   ]
  },
  {
   "cell_type": "markdown",
   "metadata": {},
   "source": [
    "- ### 3DMatch: Learning Local Geometric Descriptors from RGB-D Reconstructions\n",
    "[PDF](https://arxiv.org/pdf/1603.08182.pdf)\n",
    "[code](https://github.com/andyzeng/3dmatch-toolbox)\n",
    "![v-r-3.png](images/v-r-3.png)"
   ]
  },
  {
   "cell_type": "markdown",
   "metadata": {},
   "source": [
    "- ### Deep Sliding Shapes for Amodal 3D Object Detection in RGB-D Images\n",
    "[PDF](http://3dvision.princeton.edu/projects/2015/DSS/paper.pdf)\n",
    "[code](https://github.com/shurans/DeepSlidingShape)\n",
    "![v-r-4.jpg](images/v-r-4.jpg)"
   ]
  },
  {
   "cell_type": "markdown",
   "metadata": {},
   "source": [
    "- ### Semantic Scene Completion from a Single Depth Image\n",
    "[PDF](https://arxiv.org/pdf/1611.08974v1.pdf)\n",
    "[code](https://github.com/shurans/sscnet)\n",
    "![v-r-5.png](images/v-r-5.png)"
   ]
  },
  {
   "cell_type": "markdown",
   "metadata": {},
   "source": [
    "---"
   ]
  },
  {
   "cell_type": "markdown",
   "metadata": {},
   "source": [
    "- ### Learning Shape Abstractions by Assembling Volumetric Primitives\n",
    "[PDF](https://arxiv.org/pdf/1612.00404.pdf)\n",
    "[code](https://github.com/shubhtuls/volumetricPrimitives)\n",
    "![v-r-6.png](images/v-r-6.png)"
   ]
  },
  {
   "cell_type": "markdown",
   "metadata": {},
   "source": [
    "---"
   ]
  },
  {
   "cell_type": "markdown",
   "metadata": {},
   "source": [
    "## Octree"
   ]
  },
  {
   "cell_type": "markdown",
   "metadata": {},
   "source": [
    "---"
   ]
  },
  {
   "cell_type": "markdown",
   "metadata": {},
   "source": [
    "- ### OctNet: Learning Deep 3D Representations at High Resolutions\n",
    "[PDF](https://arxiv.org/pdf/1611.05009.pdf)\n",
    "[code](https://github.com/griegler/octnet)\n",
    "![v-o-1.png](images/v-o-1.png)"
   ]
  },
  {
   "cell_type": "markdown",
   "metadata": {},
   "source": [
    "- ### O-CNN: Octree-based Convolutional Neural Networks for 3D Shape Analysis\n",
    "[PDF](http://wang-ps.github.io/O-CNN_files/CNN3D.pdf)\n",
    "[code](https://github.com/Microsoft/O-CNN)\n",
    "![v-o-2.png](images/v-o-2.png)"
   ]
  },
  {
   "cell_type": "markdown",
   "metadata": {},
   "source": [
    "- ### Octree Generating Networks: Efficient Convolutional Architectures for High-resolution 3D Outputs\n",
    "[PDF](https://arxiv.org/pdf/1703.09438v2.pdf)\n",
    "[code](https://github.com/lmb-freiburg/ogn)\n",
    "![v-o-3.png](images/v-o-3.png)"
   ]
  },
  {
   "cell_type": "markdown",
   "metadata": {},
   "source": [
    "---"
   ]
  },
  {
   "cell_type": "markdown",
   "metadata": {},
   "source": [
    "## Sparse Convolutions"
   ]
  },
  {
   "cell_type": "markdown",
   "metadata": {},
   "source": [
    "---"
   ]
  },
  {
   "cell_type": "markdown",
   "metadata": {},
   "source": [
    "- ### Large-Scale Shape Retrieval with Sparse 3D Convolutional Neural Networks\n",
    "[PDF](https://arxiv.org/pdf/1611.09159v2.pdf)\n",
    "[code](https://github.com/gangiman/PySparseConvNet)\n",
    "![v-s-1.png](images/v-s-1.png)"
   ]
  },
  {
   "cell_type": "markdown",
   "metadata": {
    "collapsed": true
   },
   "source": [
    "---"
   ]
  },
  {
   "cell_type": "markdown",
   "metadata": {},
   "source": [
    "# Images"
   ]
  },
  {
   "cell_type": "code",
   "execution_count": null,
   "metadata": {
    "collapsed": true
   },
   "outputs": [],
   "source": [
    "from IPython.display import Image"
   ]
  },
  {
   "cell_type": "code",
   "execution_count": null,
   "metadata": {},
   "outputs": [],
   "source": [
    "Image(\"Captura de pantalla de 2017-07-26 22-53-35.png\")"
   ]
  },
  {
   "cell_type": "markdown",
   "metadata": {},
   "source": [
    "---"
   ]
  },
  {
   "cell_type": "markdown",
   "metadata": {},
   "source": [
    "---"
   ]
  },
  {
   "cell_type": "markdown",
   "metadata": {},
   "source": [
    "## Multiple images"
   ]
  },
  {
   "cell_type": "markdown",
   "metadata": {},
   "source": [
    "- ### Multi-view Convolutional Neural Networks for 3D Shape Recognition\n",
    "[PDF](https://arxiv.org/pdf/1505.00880.pdf)\n",
    "[code](https://github.com/suhangpro/mvcnn)\n",
    "![i-m-1.png](images/i-m-1.png)"
   ]
  },
  {
   "cell_type": "markdown",
   "metadata": {},
   "source": [
    "- ### Unstructured point cloud semantic labeling using deep segmentation networks\n",
    "[PDF](https://drive.google.com/file/d/0B1tJVMWDTYNtaTlIUnZmSkdOSnc/view)\n",
    "[code](https://github.com/aboulch/snapnet)\n",
    "![i-m-2.png](images/i-m-2.png)"
   ]
  },
  {
   "cell_type": "markdown",
   "metadata": {},
   "source": [
    "## Single Image"
   ]
  },
  {
   "cell_type": "markdown",
   "metadata": {},
   "source": [
    "- ### Unstructured point cloud semantic labeling using deep segmentation networks\n",
    "[PDF](A Point Set Generation Network for 3D Object Reconstruction from a Single Image)\n",
    "[code](https://github.com/fanhqme/PointSetGeneration)\n",
    "![i-s-1.png](images/i-s-1.png)"
   ]
  },
  {
   "cell_type": "markdown",
   "metadata": {},
   "source": [
    "## Single or Multi"
   ]
  },
  {
   "cell_type": "markdown",
   "metadata": {},
   "source": [
    "- ### 3D-R2N2: A Unified Approach for Single and Multi-view 3D Object Reconstruction\n",
    "[PDF](https://arxiv.org/pdf/1604.00449.pdf)\n",
    "[code](https://github.com/chrischoy/3D-R2N2)\n",
    "![i-x-1.png](images/i-x-1.png)"
   ]
  },
  {
   "cell_type": "markdown",
   "metadata": {},
   "source": [
    "---"
   ]
  },
  {
   "cell_type": "markdown",
   "metadata": {},
   "source": [
    "---"
   ]
  },
  {
   "cell_type": "markdown",
   "metadata": {},
   "source": [
    "# ->-> **LEED PAPERS** <-<-"
   ]
  },
  {
   "cell_type": "markdown",
   "metadata": {},
   "source": [
    "---"
   ]
  },
  {
   "cell_type": "markdown",
   "metadata": {},
   "source": [
    "---"
   ]
  },
  {
   "cell_type": "markdown",
   "metadata": {},
   "source": [
    "# Datasets\n",
    "\n",
    "## [SUN RGB-D: A RGB-D Scene Understanding Benchmark Suite](http://rgbd.cs.princeton.edu/)\n",
    "\n",
    "## [Stanford 2D-3D-Semantics Dataset (2D-3D-S)](http://buildingparser.stanford.edu/dataset.html)\n",
    "\n",
    "## [ScanNet - Richly-annotated 3D Reconstructions of Indoor Scenes](http://www.scan-net.org/)\n",
    "\n",
    "## [Large-Scale Point Cloud Classification Benchmark](http://semantic3d.net/)\n",
    "\n",
    "## [An RGB-D dataset and evaluation methodology for detection and 6D pose estimation of texture-less objects](http://cmp.felk.cvut.cz/t-less/)\n",
    "\n",
    "## [ShapeNet: An Information-Rich 3D Model Repository](https://shapenet.org/)\n",
    "\n",
    "## [Princeton ModelNet](http://modelnet.cs.princeton.edu/)\n",
    "\n",
    "## [A Large Dataset of Object Scans](http://redwood-data.org/3dscan/index.html)\n",
    "\n",
    "# Courses\n",
    "\n",
    "## [Machine Learning for 3D Data](http://graphics.stanford.edu/courses/cs468-17-spring/schedule.html)\n",
    "\n",
    "## [3D Deep Learning Workshop](http://3ddl.cs.princeton.edu/2016/)"
   ]
  }
 ],
 "metadata": {
  "kernelspec": {
   "display_name": "Python [conda env:pyntcloud]",
   "language": "python",
   "name": "conda-env-pyntcloud-py"
  },
  "language_info": {
   "codemirror_mode": {
    "name": "ipython",
    "version": 3
   },
   "file_extension": ".py",
   "mimetype": "text/x-python",
   "name": "python",
   "nbconvert_exporter": "python",
   "pygments_lexer": "ipython3",
   "version": "3.6.1"
  }
 },
 "nbformat": 4,
 "nbformat_minor": 2
}
